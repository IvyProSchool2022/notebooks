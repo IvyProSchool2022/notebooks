{
 "cells": [
  {
   "cell_type": "markdown",
   "id": "f5004ffe",
   "metadata": {},
   "source": [
    "Create a dictionary named tool_specs containing at least three different tools with their specifications (e.g., power, weight).<br>\n",
    "```tool_specs = {\n",
    "    \"Air Compressor\": {\"power\": 1500, \"weight\": 35},\n",
    "    \"Hydraulic Torque Wrench\": {\"power\": 750, \"weight\": 5},\n",
    "    \"Impact Wrench\": {\"power\": 1200, \"weight\": 3}\n",
    "}\n",
    "```"
   ]
  },
  {
   "cell_type": "code",
   "execution_count": null,
   "id": "222dcd45",
   "metadata": {},
   "outputs": [],
   "source": []
  },
  {
   "cell_type": "markdown",
   "id": "60933e19",
   "metadata": {},
   "source": [
    "Show the keys of the dictionary tool_specs"
   ]
  },
  {
   "cell_type": "code",
   "execution_count": null,
   "id": "b1c41a86",
   "metadata": {},
   "outputs": [],
   "source": []
  },
  {
   "cell_type": "markdown",
   "id": "8e5b0a45",
   "metadata": {},
   "source": [
    "Show the Values of the dictionary tool_specs"
   ]
  },
  {
   "cell_type": "code",
   "execution_count": null,
   "id": "0510eb54",
   "metadata": {},
   "outputs": [],
   "source": []
  },
  {
   "cell_type": "markdown",
   "id": "3196c695",
   "metadata": {},
   "source": [
    "Add a new tool named \"Angle Grinder\" with specifications (power: 850, weight: 2.5) to the tool_specs dictionary."
   ]
  },
  {
   "cell_type": "code",
   "execution_count": null,
   "id": "3dea9797",
   "metadata": {},
   "outputs": [],
   "source": []
  },
  {
   "cell_type": "markdown",
   "id": "386dbb97",
   "metadata": {},
   "source": [
    "Update the power of \"Impact Wrench\" to 1300 in the tool_specs dictionary."
   ]
  },
  {
   "cell_type": "code",
   "execution_count": null,
   "id": "fc05e6e5",
   "metadata": {},
   "outputs": [],
   "source": []
  },
  {
   "cell_type": "markdown",
   "id": "509f9b4c",
   "metadata": {},
   "source": [
    "Remove the \"Hydraulic Torque Wrench\" from the tool_specs dictionary."
   ]
  },
  {
   "cell_type": "code",
   "execution_count": null,
   "id": "0c03c2ba",
   "metadata": {},
   "outputs": [],
   "source": []
  },
  {
   "cell_type": "markdown",
   "id": "3d1f1944",
   "metadata": {},
   "source": [
    "List all the tools available in the tool_specs dictionary."
   ]
  },
  {
   "cell_type": "code",
   "execution_count": null,
   "id": "da37f189",
   "metadata": {},
   "outputs": [],
   "source": []
  },
  {
   "cell_type": "markdown",
   "id": "6d5a41a0",
   "metadata": {},
   "source": [
    "Remove all items from the tool_specs dictionary."
   ]
  },
  {
   "cell_type": "code",
   "execution_count": null,
   "id": "c7d241a5",
   "metadata": {},
   "outputs": [],
   "source": []
  }
 ],
 "metadata": {
  "kernelspec": {
   "display_name": "Python 3 (ipykernel)",
   "language": "python",
   "name": "python3"
  },
  "language_info": {
   "codemirror_mode": {
    "name": "ipython",
    "version": 3
   },
   "file_extension": ".py",
   "mimetype": "text/x-python",
   "name": "python",
   "nbconvert_exporter": "python",
   "pygments_lexer": "ipython3",
   "version": "3.7.8"
  }
 },
 "nbformat": 4,
 "nbformat_minor": 5
}
